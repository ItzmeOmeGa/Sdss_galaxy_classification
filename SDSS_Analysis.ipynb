{
  "cells": [
    {
      "cell_type": "markdown",
      "metadata": {
        "id": "view-in-github",
        "colab_type": "text"
      },
      "source": [
        "<a href=\"https://colab.research.google.com/github/ItzmeOmeGa/Sdss_galaxy_classification/blob/master/SDSS_Analysis.ipynb\" target=\"_parent\"><img src=\"https://colab.research.google.com/assets/colab-badge.svg\" alt=\"Open In Colab\"/></a>"
      ]
    },
    {
      "cell_type": "markdown",
      "id": "45b8a6a7",
      "metadata": {
        "id": "45b8a6a7"
      },
      "source": []
    },
    {
      "cell_type": "code",
      "source": [
        "# Install required packages\n",
        "!pip install pandas scikit-learn matplotlib seaborn joblib\n"
      ],
      "metadata": {
        "id": "flV_U8QriHHw",
        "colab": {
          "base_uri": "https://localhost:8080/"
        },
        "outputId": "56655fcc-8418-40e3-ade3-6ff529dc0180"
      },
      "id": "flV_U8QriHHw",
      "execution_count": 23,
      "outputs": [
        {
          "output_type": "stream",
          "name": "stdout",
          "text": [
            "Requirement already satisfied: pandas in /usr/local/lib/python3.11/dist-packages (2.2.2)\n",
            "Requirement already satisfied: scikit-learn in /usr/local/lib/python3.11/dist-packages (1.6.1)\n",
            "Requirement already satisfied: matplotlib in /usr/local/lib/python3.11/dist-packages (3.10.0)\n",
            "Requirement already satisfied: seaborn in /usr/local/lib/python3.11/dist-packages (0.13.2)\n",
            "Requirement already satisfied: joblib in /usr/local/lib/python3.11/dist-packages (1.5.1)\n",
            "Requirement already satisfied: numpy>=1.23.2 in /usr/local/lib/python3.11/dist-packages (from pandas) (2.0.2)\n",
            "Requirement already satisfied: python-dateutil>=2.8.2 in /usr/local/lib/python3.11/dist-packages (from pandas) (2.9.0.post0)\n",
            "Requirement already satisfied: pytz>=2020.1 in /usr/local/lib/python3.11/dist-packages (from pandas) (2025.2)\n",
            "Requirement already satisfied: tzdata>=2022.7 in /usr/local/lib/python3.11/dist-packages (from pandas) (2025.2)\n",
            "Requirement already satisfied: scipy>=1.6.0 in /usr/local/lib/python3.11/dist-packages (from scikit-learn) (1.15.3)\n",
            "Requirement already satisfied: threadpoolctl>=3.1.0 in /usr/local/lib/python3.11/dist-packages (from scikit-learn) (3.6.0)\n",
            "Requirement already satisfied: contourpy>=1.0.1 in /usr/local/lib/python3.11/dist-packages (from matplotlib) (1.3.2)\n",
            "Requirement already satisfied: cycler>=0.10 in /usr/local/lib/python3.11/dist-packages (from matplotlib) (0.12.1)\n",
            "Requirement already satisfied: fonttools>=4.22.0 in /usr/local/lib/python3.11/dist-packages (from matplotlib) (4.58.4)\n",
            "Requirement already satisfied: kiwisolver>=1.3.1 in /usr/local/lib/python3.11/dist-packages (from matplotlib) (1.4.8)\n",
            "Requirement already satisfied: packaging>=20.0 in /usr/local/lib/python3.11/dist-packages (from matplotlib) (24.2)\n",
            "Requirement already satisfied: pillow>=8 in /usr/local/lib/python3.11/dist-packages (from matplotlib) (11.2.1)\n",
            "Requirement already satisfied: pyparsing>=2.3.1 in /usr/local/lib/python3.11/dist-packages (from matplotlib) (3.2.3)\n",
            "Requirement already satisfied: six>=1.5 in /usr/local/lib/python3.11/dist-packages (from python-dateutil>=2.8.2->pandas) (1.17.0)\n"
          ]
        }
      ]
    },
    {
      "cell_type": "code",
      "source": [
        "import pandas as pd\n",
        "import numpy as np\n",
        "import matplotlib.pyplot as plt\n",
        "import seaborn as sns\n",
        "from sklearn.ensemble import RandomForestClassifier\n",
        "from sklearn.model_selection import train_test_split\n",
        "from sklearn.metrics import (accuracy_score,\n",
        "                           confusion_matrix,\n",
        "                           classification_report)\n",
        "import joblib\n"
      ],
      "metadata": {
        "id": "Aqf3W--8pUr6"
      },
      "id": "Aqf3W--8pUr6",
      "execution_count": 24,
      "outputs": []
    },
    {
      "cell_type": "code",
      "source": [
        "try:\n",
        "    df = pd.read_csv('sdss_100k_galaxy_form_burst.csv', sep=',', skiprows=[0])\n",
        "    print(\"✅ Data loaded successfully!\")\n",
        "    print(f\"Dataset shape: {df.shape}\")\n",
        "\n",
        "    # Display first 3 rows\n",
        "    display(df.head(3))\n",
        "\n",
        "except Exception as e:\n",
        "    print(f\"❌ Error loading data: {e}\")"
      ],
      "metadata": {
        "colab": {
          "base_uri": "https://localhost:8080/",
          "height": 229
        },
        "id": "Vpto4Dj_pZ0-",
        "outputId": "c3850378-2923-4d32-b688-50af2746881d"
      },
      "id": "Vpto4Dj_pZ0-",
      "execution_count": 32,
      "outputs": [
        {
          "output_type": "stream",
          "name": "stdout",
          "text": [
            "✅ Data loaded successfully!\n",
            "Dataset shape: (100000, 43)\n"
          ]
        },
        {
          "output_type": "display_data",
          "data": {
            "text/plain": [
              "                 objid            specobjid         ra       dec         u  \\\n",
              "0  1237646587710669400  8175185722644649984  82.038679  0.847177  21.73818   \n",
              "1  1237646588247540577  8175186822156277760  82.138894  1.063072  20.66761   \n",
              "2  1237646588247540758  8175187097034184704  82.028510  1.104003  23.63531   \n",
              "\n",
              "          g         r         i         z  modelFlux_u  ...  psfMag_z  \\\n",
              "0  20.26633  19.32409  18.64037  18.23833     2.007378  ...  19.43575   \n",
              "1  19.32016  18.67888  18.24693  18.04122     5.403369  ...  18.85012   \n",
              "2  21.19671  19.92297  19.31443  18.68396     0.295693  ...  19.42235   \n",
              "\n",
              "    expAB_u   expAB_g   expAB_r   expAB_i   expAB_z   class     subclass  \\\n",
              "0  0.099951  0.311864  0.289370  0.270588  0.187182  GALAXY  STARFORMING   \n",
              "1  0.366549  0.516876  0.517447  0.552297  0.636966  GALAXY  STARFORMING   \n",
              "2  0.050000  0.417137  0.506950  0.549881  0.370166  GALAXY  STARFORMING   \n",
              "\n",
              "   redshift  redshift_err  \n",
              "0  0.067749      0.000015  \n",
              "1  0.105118      0.000010  \n",
              "2  0.234089      0.000030  \n",
              "\n",
              "[3 rows x 43 columns]"
            ],
            "text/html": [
              "\n",
              "  <div id=\"df-52f7a1f4-d2b8-48da-9862-99e14837c6b3\" class=\"colab-df-container\">\n",
              "    <div>\n",
              "<style scoped>\n",
              "    .dataframe tbody tr th:only-of-type {\n",
              "        vertical-align: middle;\n",
              "    }\n",
              "\n",
              "    .dataframe tbody tr th {\n",
              "        vertical-align: top;\n",
              "    }\n",
              "\n",
              "    .dataframe thead th {\n",
              "        text-align: right;\n",
              "    }\n",
              "</style>\n",
              "<table border=\"1\" class=\"dataframe\">\n",
              "  <thead>\n",
              "    <tr style=\"text-align: right;\">\n",
              "      <th></th>\n",
              "      <th>objid</th>\n",
              "      <th>specobjid</th>\n",
              "      <th>ra</th>\n",
              "      <th>dec</th>\n",
              "      <th>u</th>\n",
              "      <th>g</th>\n",
              "      <th>r</th>\n",
              "      <th>i</th>\n",
              "      <th>z</th>\n",
              "      <th>modelFlux_u</th>\n",
              "      <th>...</th>\n",
              "      <th>psfMag_z</th>\n",
              "      <th>expAB_u</th>\n",
              "      <th>expAB_g</th>\n",
              "      <th>expAB_r</th>\n",
              "      <th>expAB_i</th>\n",
              "      <th>expAB_z</th>\n",
              "      <th>class</th>\n",
              "      <th>subclass</th>\n",
              "      <th>redshift</th>\n",
              "      <th>redshift_err</th>\n",
              "    </tr>\n",
              "  </thead>\n",
              "  <tbody>\n",
              "    <tr>\n",
              "      <th>0</th>\n",
              "      <td>1237646587710669400</td>\n",
              "      <td>8175185722644649984</td>\n",
              "      <td>82.038679</td>\n",
              "      <td>0.847177</td>\n",
              "      <td>21.73818</td>\n",
              "      <td>20.26633</td>\n",
              "      <td>19.32409</td>\n",
              "      <td>18.64037</td>\n",
              "      <td>18.23833</td>\n",
              "      <td>2.007378</td>\n",
              "      <td>...</td>\n",
              "      <td>19.43575</td>\n",
              "      <td>0.099951</td>\n",
              "      <td>0.311864</td>\n",
              "      <td>0.289370</td>\n",
              "      <td>0.270588</td>\n",
              "      <td>0.187182</td>\n",
              "      <td>GALAXY</td>\n",
              "      <td>STARFORMING</td>\n",
              "      <td>0.067749</td>\n",
              "      <td>0.000015</td>\n",
              "    </tr>\n",
              "    <tr>\n",
              "      <th>1</th>\n",
              "      <td>1237646588247540577</td>\n",
              "      <td>8175186822156277760</td>\n",
              "      <td>82.138894</td>\n",
              "      <td>1.063072</td>\n",
              "      <td>20.66761</td>\n",
              "      <td>19.32016</td>\n",
              "      <td>18.67888</td>\n",
              "      <td>18.24693</td>\n",
              "      <td>18.04122</td>\n",
              "      <td>5.403369</td>\n",
              "      <td>...</td>\n",
              "      <td>18.85012</td>\n",
              "      <td>0.366549</td>\n",
              "      <td>0.516876</td>\n",
              "      <td>0.517447</td>\n",
              "      <td>0.552297</td>\n",
              "      <td>0.636966</td>\n",
              "      <td>GALAXY</td>\n",
              "      <td>STARFORMING</td>\n",
              "      <td>0.105118</td>\n",
              "      <td>0.000010</td>\n",
              "    </tr>\n",
              "    <tr>\n",
              "      <th>2</th>\n",
              "      <td>1237646588247540758</td>\n",
              "      <td>8175187097034184704</td>\n",
              "      <td>82.028510</td>\n",
              "      <td>1.104003</td>\n",
              "      <td>23.63531</td>\n",
              "      <td>21.19671</td>\n",
              "      <td>19.92297</td>\n",
              "      <td>19.31443</td>\n",
              "      <td>18.68396</td>\n",
              "      <td>0.295693</td>\n",
              "      <td>...</td>\n",
              "      <td>19.42235</td>\n",
              "      <td>0.050000</td>\n",
              "      <td>0.417137</td>\n",
              "      <td>0.506950</td>\n",
              "      <td>0.549881</td>\n",
              "      <td>0.370166</td>\n",
              "      <td>GALAXY</td>\n",
              "      <td>STARFORMING</td>\n",
              "      <td>0.234089</td>\n",
              "      <td>0.000030</td>\n",
              "    </tr>\n",
              "  </tbody>\n",
              "</table>\n",
              "<p>3 rows × 43 columns</p>\n",
              "</div>\n",
              "    <div class=\"colab-df-buttons\">\n",
              "\n",
              "  <div class=\"colab-df-container\">\n",
              "    <button class=\"colab-df-convert\" onclick=\"convertToInteractive('df-52f7a1f4-d2b8-48da-9862-99e14837c6b3')\"\n",
              "            title=\"Convert this dataframe to an interactive table.\"\n",
              "            style=\"display:none;\">\n",
              "\n",
              "  <svg xmlns=\"http://www.w3.org/2000/svg\" height=\"24px\" viewBox=\"0 -960 960 960\">\n",
              "    <path d=\"M120-120v-720h720v720H120Zm60-500h600v-160H180v160Zm220 220h160v-160H400v160Zm0 220h160v-160H400v160ZM180-400h160v-160H180v160Zm440 0h160v-160H620v160ZM180-180h160v-160H180v160Zm440 0h160v-160H620v160Z\"/>\n",
              "  </svg>\n",
              "    </button>\n",
              "\n",
              "  <style>\n",
              "    .colab-df-container {\n",
              "      display:flex;\n",
              "      gap: 12px;\n",
              "    }\n",
              "\n",
              "    .colab-df-convert {\n",
              "      background-color: #E8F0FE;\n",
              "      border: none;\n",
              "      border-radius: 50%;\n",
              "      cursor: pointer;\n",
              "      display: none;\n",
              "      fill: #1967D2;\n",
              "      height: 32px;\n",
              "      padding: 0 0 0 0;\n",
              "      width: 32px;\n",
              "    }\n",
              "\n",
              "    .colab-df-convert:hover {\n",
              "      background-color: #E2EBFA;\n",
              "      box-shadow: 0px 1px 2px rgba(60, 64, 67, 0.3), 0px 1px 3px 1px rgba(60, 64, 67, 0.15);\n",
              "      fill: #174EA6;\n",
              "    }\n",
              "\n",
              "    .colab-df-buttons div {\n",
              "      margin-bottom: 4px;\n",
              "    }\n",
              "\n",
              "    [theme=dark] .colab-df-convert {\n",
              "      background-color: #3B4455;\n",
              "      fill: #D2E3FC;\n",
              "    }\n",
              "\n",
              "    [theme=dark] .colab-df-convert:hover {\n",
              "      background-color: #434B5C;\n",
              "      box-shadow: 0px 1px 3px 1px rgba(0, 0, 0, 0.15);\n",
              "      filter: drop-shadow(0px 1px 2px rgba(0, 0, 0, 0.3));\n",
              "      fill: #FFFFFF;\n",
              "    }\n",
              "  </style>\n",
              "\n",
              "    <script>\n",
              "      const buttonEl =\n",
              "        document.querySelector('#df-52f7a1f4-d2b8-48da-9862-99e14837c6b3 button.colab-df-convert');\n",
              "      buttonEl.style.display =\n",
              "        google.colab.kernel.accessAllowed ? 'block' : 'none';\n",
              "\n",
              "      async function convertToInteractive(key) {\n",
              "        const element = document.querySelector('#df-52f7a1f4-d2b8-48da-9862-99e14837c6b3');\n",
              "        const dataTable =\n",
              "          await google.colab.kernel.invokeFunction('convertToInteractive',\n",
              "                                                    [key], {});\n",
              "        if (!dataTable) return;\n",
              "\n",
              "        const docLinkHtml = 'Like what you see? Visit the ' +\n",
              "          '<a target=\"_blank\" href=https://colab.research.google.com/notebooks/data_table.ipynb>data table notebook</a>'\n",
              "          + ' to learn more about interactive tables.';\n",
              "        element.innerHTML = '';\n",
              "        dataTable['output_type'] = 'display_data';\n",
              "        await google.colab.output.renderOutput(dataTable, element);\n",
              "        const docLink = document.createElement('div');\n",
              "        docLink.innerHTML = docLinkHtml;\n",
              "        element.appendChild(docLink);\n",
              "      }\n",
              "    </script>\n",
              "  </div>\n",
              "\n",
              "\n",
              "    <div id=\"df-511bdaea-1db5-4709-b56d-2378b53dad9a\">\n",
              "      <button class=\"colab-df-quickchart\" onclick=\"quickchart('df-511bdaea-1db5-4709-b56d-2378b53dad9a')\"\n",
              "                title=\"Suggest charts\"\n",
              "                style=\"display:none;\">\n",
              "\n",
              "<svg xmlns=\"http://www.w3.org/2000/svg\" height=\"24px\"viewBox=\"0 0 24 24\"\n",
              "     width=\"24px\">\n",
              "    <g>\n",
              "        <path d=\"M19 3H5c-1.1 0-2 .9-2 2v14c0 1.1.9 2 2 2h14c1.1 0 2-.9 2-2V5c0-1.1-.9-2-2-2zM9 17H7v-7h2v7zm4 0h-2V7h2v10zm4 0h-2v-4h2v4z\"/>\n",
              "    </g>\n",
              "</svg>\n",
              "      </button>\n",
              "\n",
              "<style>\n",
              "  .colab-df-quickchart {\n",
              "      --bg-color: #E8F0FE;\n",
              "      --fill-color: #1967D2;\n",
              "      --hover-bg-color: #E2EBFA;\n",
              "      --hover-fill-color: #174EA6;\n",
              "      --disabled-fill-color: #AAA;\n",
              "      --disabled-bg-color: #DDD;\n",
              "  }\n",
              "\n",
              "  [theme=dark] .colab-df-quickchart {\n",
              "      --bg-color: #3B4455;\n",
              "      --fill-color: #D2E3FC;\n",
              "      --hover-bg-color: #434B5C;\n",
              "      --hover-fill-color: #FFFFFF;\n",
              "      --disabled-bg-color: #3B4455;\n",
              "      --disabled-fill-color: #666;\n",
              "  }\n",
              "\n",
              "  .colab-df-quickchart {\n",
              "    background-color: var(--bg-color);\n",
              "    border: none;\n",
              "    border-radius: 50%;\n",
              "    cursor: pointer;\n",
              "    display: none;\n",
              "    fill: var(--fill-color);\n",
              "    height: 32px;\n",
              "    padding: 0;\n",
              "    width: 32px;\n",
              "  }\n",
              "\n",
              "  .colab-df-quickchart:hover {\n",
              "    background-color: var(--hover-bg-color);\n",
              "    box-shadow: 0 1px 2px rgba(60, 64, 67, 0.3), 0 1px 3px 1px rgba(60, 64, 67, 0.15);\n",
              "    fill: var(--button-hover-fill-color);\n",
              "  }\n",
              "\n",
              "  .colab-df-quickchart-complete:disabled,\n",
              "  .colab-df-quickchart-complete:disabled:hover {\n",
              "    background-color: var(--disabled-bg-color);\n",
              "    fill: var(--disabled-fill-color);\n",
              "    box-shadow: none;\n",
              "  }\n",
              "\n",
              "  .colab-df-spinner {\n",
              "    border: 2px solid var(--fill-color);\n",
              "    border-color: transparent;\n",
              "    border-bottom-color: var(--fill-color);\n",
              "    animation:\n",
              "      spin 1s steps(1) infinite;\n",
              "  }\n",
              "\n",
              "  @keyframes spin {\n",
              "    0% {\n",
              "      border-color: transparent;\n",
              "      border-bottom-color: var(--fill-color);\n",
              "      border-left-color: var(--fill-color);\n",
              "    }\n",
              "    20% {\n",
              "      border-color: transparent;\n",
              "      border-left-color: var(--fill-color);\n",
              "      border-top-color: var(--fill-color);\n",
              "    }\n",
              "    30% {\n",
              "      border-color: transparent;\n",
              "      border-left-color: var(--fill-color);\n",
              "      border-top-color: var(--fill-color);\n",
              "      border-right-color: var(--fill-color);\n",
              "    }\n",
              "    40% {\n",
              "      border-color: transparent;\n",
              "      border-right-color: var(--fill-color);\n",
              "      border-top-color: var(--fill-color);\n",
              "    }\n",
              "    60% {\n",
              "      border-color: transparent;\n",
              "      border-right-color: var(--fill-color);\n",
              "    }\n",
              "    80% {\n",
              "      border-color: transparent;\n",
              "      border-right-color: var(--fill-color);\n",
              "      border-bottom-color: var(--fill-color);\n",
              "    }\n",
              "    90% {\n",
              "      border-color: transparent;\n",
              "      border-bottom-color: var(--fill-color);\n",
              "    }\n",
              "  }\n",
              "</style>\n",
              "\n",
              "      <script>\n",
              "        async function quickchart(key) {\n",
              "          const quickchartButtonEl =\n",
              "            document.querySelector('#' + key + ' button');\n",
              "          quickchartButtonEl.disabled = true;  // To prevent multiple clicks.\n",
              "          quickchartButtonEl.classList.add('colab-df-spinner');\n",
              "          try {\n",
              "            const charts = await google.colab.kernel.invokeFunction(\n",
              "                'suggestCharts', [key], {});\n",
              "          } catch (error) {\n",
              "            console.error('Error during call to suggestCharts:', error);\n",
              "          }\n",
              "          quickchartButtonEl.classList.remove('colab-df-spinner');\n",
              "          quickchartButtonEl.classList.add('colab-df-quickchart-complete');\n",
              "        }\n",
              "        (() => {\n",
              "          let quickchartButtonEl =\n",
              "            document.querySelector('#df-511bdaea-1db5-4709-b56d-2378b53dad9a button');\n",
              "          quickchartButtonEl.style.display =\n",
              "            google.colab.kernel.accessAllowed ? 'block' : 'none';\n",
              "        })();\n",
              "      </script>\n",
              "    </div>\n",
              "\n",
              "    </div>\n",
              "  </div>\n"
            ],
            "application/vnd.google.colaboratory.intrinsic+json": {
              "type": "dataframe"
            }
          },
          "metadata": {}
        }
      ]
    },
    {
      "cell_type": "code",
      "source": [
        "print(\"Columns in dataset:\")\n",
        "print(df.columns.tolist())\n",
        "\n",
        "df = df.rename(columns={\n",
        "    'class': 'galaxy_type',\n",
        "    'redshift': 'z'\n",
        "})\n"
      ],
      "metadata": {
        "colab": {
          "base_uri": "https://localhost:8080/"
        },
        "id": "JPRIBbnKplLk",
        "outputId": "c13dcadf-8172-4275-b4e5-7af2021a9578"
      },
      "id": "JPRIBbnKplLk",
      "execution_count": 26,
      "outputs": [
        {
          "output_type": "stream",
          "name": "stdout",
          "text": [
            "Columns in dataset:\n",
            "['#Table1']\n"
          ]
        }
      ]
    },
    {
      "cell_type": "code",
      "source": [
        "\n",
        "try:\n",
        "    with open('sdss_100k_galaxy_form_burst.csv', 'r') as f:\n",
        "        for i in range(5):  # Read and print the first 5 lines\n",
        "            print(f.readline())\n",
        "except Exception as e:\n",
        "    print(f\"❌ Error reading file: {e}\")"
      ],
      "metadata": {
        "colab": {
          "base_uri": "https://localhost:8080/"
        },
        "id": "6_LIpJRYqEKy",
        "outputId": "836ecf3c-580f-4382-b56e-2bcc86c2f0d8"
      },
      "id": "6_LIpJRYqEKy",
      "execution_count": 29,
      "outputs": [
        {
          "output_type": "stream",
          "name": "stdout",
          "text": [
            "#Table1\n",
            "\n",
            "objid,specobjid,ra,dec,u,g,r,i,z,modelFlux_u,modelFlux_g,modelFlux_r,modelFlux_i,modelFlux_z,petroRad_u,petroRad_g,petroRad_i,petroRad_r,petroRad_z,petroFlux_u,petroFlux_g,petroFlux_i,petroFlux_r,petroFlux_z,petroR50_u,petroR50_g,petroR50_i,petroR50_r,petroR50_z,psfMag_u,psfMag_r,psfMag_g,psfMag_i,psfMag_z,expAB_u,expAB_g,expAB_r,expAB_i,expAB_z,class,subclass,redshift,redshift_err\n",
            "\n",
            "1237646587710669400,8175185722644649984,82.0386790197966,0.847177136346427,21.73818,20.26633,19.32409,18.64037,18.23833,2.007378,7.82364,18.63581,34.98175,50.64961,2.969037,4.252946,3.101782,3.46188,3.071923,2.559197,8.499634,30.32594,17.24706,36.44688,1.984029,1.835038,1.438609,1.638081,1.289375,22.58631,20.752,21.66492,20.07646,19.43575,0.09995142,0.3118636,0.2893703,0.270588,0.1871822,GALAXY,STARFORMING,0.06774854,1.485608E-05\n",
            "\n",
            "1237646588247540577,8175186822156277760,82.138894235229,1.06307163479155,20.66761,19.32016,18.67888,18.24693,18.04122,5.403369,18.70364,33.76298,50.25997,60.73625,2.186902,2.625105,2.678123,2.594866,3.16345,4.333604,18.41877,51.06515,33.32697,62.45336,1.069268,1.278203,1.284687,1.263937,1.318443,21.31284,19.67125,20.23801,19.19277,18.85012,0.3665494,0.5168757,0.5174466,0.5522967,0.6369656,GALAXY,STARFORMING,0.1051184,9.869399E-06\n",
            "\n",
            "1237646588247540758,8175187097034184704,82.028510297136,1.10400342592331,23.63531,21.19671,19.92297,19.31443,18.68396,0.2956932,3.318924,10.73388,18.80136,33.58972,0.9917983,1.644824,1.801951,1.749696,3.059948,0.1653659,2.800386,17.09313,9.494298,51.73537,0.6636064,0.9471089,0.9957339,0.9873955,1.612933,23.92244,20.6616,21.83267,20.00731,19.42235,0.05,0.4171365,0.5069503,0.5498811,0.3701658,GALAXY,STARFORMING,0.2340893,2.968146E-05\n",
            "\n"
          ]
        }
      ]
    },
    {
      "cell_type": "code",
      "source": [
        "print(\"Columns in dataset:\")\n",
        "print(df.columns.tolist())"
      ],
      "metadata": {
        "colab": {
          "base_uri": "https://localhost:8080/"
        },
        "id": "oPLmxXYLrAjU",
        "outputId": "0357a597-3316-4928-8b0b-227617e59b6d"
      },
      "id": "oPLmxXYLrAjU",
      "execution_count": 35,
      "outputs": [
        {
          "output_type": "stream",
          "name": "stdout",
          "text": [
            "Columns in dataset:\n",
            "['objid', 'specobjid', 'ra', 'dec', 'u', 'g', 'r', 'i', 'z', 'modelFlux_u', 'modelFlux_g', 'modelFlux_r', 'modelFlux_i', 'modelFlux_z', 'petroRad_u', 'petroRad_g', 'petroRad_i', 'petroRad_r', 'petroRad_z', 'petroFlux_u', 'petroFlux_g', 'petroFlux_i', 'petroFlux_r', 'petroFlux_z', 'petroR50_u', 'petroR50_g', 'petroR50_i', 'petroR50_r', 'petroR50_z', 'psfMag_u', 'psfMag_r', 'psfMag_g', 'psfMag_i', 'psfMag_z', 'expAB_u', 'expAB_g', 'expAB_r', 'expAB_i', 'expAB_z', 'class', 'subclass', 'redshift', 'redshift_err']\n"
          ]
        }
      ]
    },
    {
      "cell_type": "code",
      "source": [
        "target_column = 'class'\n",
        "redshift_column = 'z'\n",
        "\n",
        "if target_column not in df.columns:\n",
        "    raise ValueError(f\"Target column '{target_column}' not found in data\")\n",
        "if redshift_column not in df.columns:\n",
        "    print(f\"⚠ Warning: Redshift column '{redshift_column}' not found\")"
      ],
      "metadata": {
        "id": "st4VQstdrMYs"
      },
      "id": "st4VQstdrMYs",
      "execution_count": 38,
      "outputs": []
    },
    {
      "cell_type": "code",
      "source": [
        "plt.figure(figsize=(15, 6))\n",
        "\n",
        "# 1. Galaxy type distribution\n",
        "plt.subplot(1, 2, 1)\n",
        "try:\n",
        "    sns.countplot(data=df, x=target_column, palette='viridis')\n",
        "    plt.title(f'Galaxy Type Distribution ({target_column})')\n",
        "    plt.xticks(rotation=45)\n",
        "except Exception as e:\n",
        "    print(f\" Error plotting galaxy types: {e}\")\n",
        "    # Alternative plot if countplot fails\n",
        "    df[target_column].value_counts().plot(kind='bar')\n",
        "    plt.title('Galaxy Type Counts')\n",
        "\n",
        "# 2. Redshift distribution (if column exists)\n",
        "plt.subplot(1, 2, 2)\n",
        "if redshift_column in df.columns:\n",
        "    sns.histplot(df[redshift_column], bins=30, kde=True)\n",
        "    plt.title(f'{redshift_column} Distribution')\n",
        "else:\n",
        "  plt.text(0.5, 0.5, 'No redshift data available',\n",
        "             ha='center', va='center')\n",
        "  plt.title('Redshift Data Missing')\n",
        "\n",
        "plt.tight_layout()\n",
        "plt.show()"
      ],
      "metadata": {
        "colab": {
          "base_uri": "https://localhost:8080/",
          "height": 664
        },
        "id": "cR8VHakPreAb",
        "outputId": "11bfb912-d817-4d6f-f198-a650c65a4729"
      },
      "id": "cR8VHakPreAb",
      "execution_count": 41,
      "outputs": [
        {
          "output_type": "stream",
          "name": "stderr",
          "text": [
            "/tmp/ipython-input-41-1890777247.py:6: FutureWarning: \n",
            "\n",
            "Passing `palette` without assigning `hue` is deprecated and will be removed in v0.14.0. Assign the `x` variable to `hue` and set `legend=False` for the same effect.\n",
            "\n",
            "  sns.countplot(data=df, x=target_column, palette='viridis')\n"
          ]
        },
        {
          "output_type": "display_data",
          "data": {
            "text/plain": [
              "<Figure size 1500x600 with 2 Axes>"
            ],
            "image/png": "[encoded data removed]"
          },
          "metadata": {}
        }
      ]
    },
    {
      "cell_type": "code",
      "source": [
        "X = df.drop(columns=[target_column, 'objid', 'specobjid', 'subclass'])  # Exclude metadata columns and subclass\n",
        "y = df[target_column]\n",
        "\n",
        "# Split data\n",
        "X_train, X_test, y_train, y_test = train_test_split(\n",
        "    X, y,\n",
        "    test_size=0.2,\n",
        "    random_state=42,\n",
        "    stratify=y  # Maintain class distribution\n",
        ")\n",
        "\n",
        "print(\"✅ Data split successfully!\")\n",
        "print(f\"Training samples: {X_train.shape[0]}\")\n",
        "print(f\"Test samples: {X_test.shape[0]}\")"
      ],
      "metadata": {
        "colab": {
          "base_uri": "https://localhost:8080/"
        },
        "id": "kXoa3THdteWq",
        "outputId": "065a8a1d-50a9-400d-9059-8931fd1414a1"
      },
      "id": "kXoa3THdteWq",
      "execution_count": 49,
      "outputs": [
        {
          "output_type": "stream",
          "name": "stdout",
          "text": [
            "✅ Data split successfully!\n",
            "Training samples: 80000\n",
            "Test samples: 20000\n"
          ]
        }
      ]
    },
    {
      "cell_type": "code",
      "source": [
        "model = RandomForestClassifier(\n",
        "    n_estimators=100,\n",
        "    random_state=42,\n",
        "    class_weight='balanced',  # Handles imbalanced classes\n",
        "    n_jobs=-1  # Uses all CPU cores\n",
        ")\n",
        "\n",
        "print(\"⏳ Training model...\")\n",
        "model.fit(X_train, y_train)\n",
        "print(\"✅ Model trained successfully!\")"
      ],
      "metadata": {
        "colab": {
          "base_uri": "https://localhost:8080/"
        },
        "id": "eayxSb00thzt",
        "outputId": "b54edab5-7d51-4b14-8f09-e19fa8ecd34a"
      },
      "id": "eayxSb00thzt",
      "execution_count": 50,
      "outputs": [
        {
          "output_type": "stream",
          "name": "stdout",
          "text": [
            "⏳ Training model...\n",
            "✅ Model trained successfully!\n"
          ]
        }
      ]
    },
    {
      "cell_type": "code",
      "source": [
        "# Model Evaluation\n",
        "print(\"\\n🔍 Model Evaluation:\")\n",
        "y_pred = model.predict(X_test)\n",
        "\n",
        "# 1. Accuracy\n",
        "accuracy = accuracy_score(y_test, y_pred)\n",
        "print(f\"📊 Accuracy: {accuracy:.2%}\")\n",
        "\n",
        "# 2. Confusion Matrix\n",
        "plt.figure(figsize=(10,7))\n",
        "sns.heatmap(confusion_matrix(y_test, y_pred),\n",
        "            annot=True, fmt='d',\n",
        "            cmap='Blues',\n",
        "            xticklabels=model.classes_,\n",
        "            yticklabels=model.classes_)\n",
        "plt.title('Confusion Matrix')\n",
        "plt.ylabel('True Label')\n",
        "plt.xlabel('Predicted Label')\n",
        "plt.show()\n",
        "\n",
        "# 3. Classification Report\n",
        "print(\"\\n📝 Classification Report:\")\n",
        "print(classification_report(y_test, y_pred))\n"
      ],
      "metadata": {
        "colab": {
          "base_uri": "https://localhost:8080/",
          "height": 877
        },
        "id": "hzde0a1juCYq",
        "outputId": "0ea4aa05-36be-4eff-ed54-f22b1fa3f69f"
      },
      "id": "hzde0a1juCYq",
      "execution_count": 51,
      "outputs": [
        {
          "output_type": "stream",
          "name": "stdout",
          "text": [
            "\n",
            "🔍 Model Evaluation:\n",
            "📊 Accuracy: 100.00%\n"
          ]
        },
        {
          "output_type": "display_data",
          "data": {
            "text/plain": [
              "<Figure size 1000x700 with 2 Axes>"
            ],
            "image/png": "[encoded data removed]"
          },
          "metadata": {}
        },
        {
          "output_type": "stream",
          "name": "stdout",
          "text": [
            "\n",
            "📝 Classification Report:\n",
            "              precision    recall  f1-score   support\n",
            "\n",
            "      GALAXY       1.00      1.00      1.00     20000\n",
            "\n",
            "    accuracy                           1.00     20000\n",
            "   macro avg       1.00      1.00      1.00     20000\n",
            "weighted avg       1.00      1.00      1.00     20000\n",
            "\n"
          ]
        }
      ]
    },
    {
      "cell_type": "code",
      "source": [
        "plt.figure(figsize=(12,6))\n",
        "importances = pd.Series(model.feature_importances_, index=X.columns)\n",
        "importances.nlargest(15).plot(kind='barh')\n",
        "plt.title('Top 15 Important Features')\n",
        "plt.show()"
      ],
      "metadata": {
        "colab": {
          "base_uri": "https://localhost:8080/",
          "height": 545
        },
        "id": "xAEPjbBwuFaw",
        "outputId": "388d8cd9-059d-4769-d5e4-5449cd7024cc"
      },
      "id": "xAEPjbBwuFaw",
      "execution_count": 52,
      "outputs": [
        {
          "output_type": "display_data",
          "data": {
            "text/plain": [
              "<Figure size 1200x600 with 1 Axes>"
            ],
            "image/png": "[encoded data removed]"
          },
          "metadata": {}
        }
      ]
    },
    {
      "cell_type": "code",
      "source": [
        "joblib.dump(model, \"galaxy_classifier.pkl\")\n",
        "print(\"💾 Model saved as galaxy_classifier.pkl\")\n",
        "\n",
        "try:\n",
        "    from google.colab import files\n",
        "    files.download(\"galaxy_classifier.pkl\")\n",
        "    print(\" Model downloaded!\")\n",
        "except:\n",
        "    pass"
      ],
      "metadata": {
        "colab": {
          "base_uri": "https://localhost:8080/",
          "height": 53
        },
        "id": "Mxb9YMMFvJJz",
        "outputId": "edfdc3eb-8886-4c9a-da00-b15998077b15"
      },
      "id": "Mxb9YMMFvJJz",
      "execution_count": 53,
      "outputs": [
        {
          "output_type": "stream",
          "name": "stdout",
          "text": [
            "💾 Model saved as galaxy_classifier.pkl\n"
          ]
        },
        {
          "output_type": "display_data",
          "data": {
            "text/plain": [
              "<IPython.core.display.Javascript object>"
            ],
            "application/javascript": [
              "\n",
              "    async function download(id, filename, size) {\n",
              "      if (!google.colab.kernel.accessAllowed) {\n",
              "        return;\n",
              "      }\n",
              "      const div = document.createElement('div');\n",
              "      const label = document.createElement('label');\n",
              "      label.textContent = `Downloading \"${filename}\": `;\n",
              "      div.appendChild(label);\n",
              "      const progress = document.createElement('progress');\n",
              "      progress.max = size;\n",
              "      div.appendChild(progress);\n",
              "      document.body.appendChild(div);\n",
              "\n",
              "      const buffers = [];\n",
              "      let downloaded = 0;\n",
              "\n",
              "      const channel = await google.colab.kernel.comms.open(id);\n",
              "      // Send a message to notify the kernel that we're ready.\n",
              "      channel.send({})\n",
              "\n",
              "      for await (const message of channel.messages) {\n",
              "        // Send a message to notify the kernel that we're ready.\n",
              "        channel.send({})\n",
              "        if (message.buffers) {\n",
              "          for (const buffer of message.buffers) {\n",
              "            buffers.push(buffer);\n",
              "            downloaded += buffer.byteLength;\n",
              "            progress.value = downloaded;\n",
              "          }\n",
              "        }\n",
              "      }\n",
              "      const blob = new Blob(buffers, {type: 'application/binary'});\n",
              "      const a = document.createElement('a');\n",
              "      a.href = window.URL.createObjectURL(blob);\n",
              "      a.download = filename;\n",
              "      div.appendChild(a);\n",
              "      a.click();\n",
              "      div.remove();\n",
              "    }\n",
              "  "
            ]
          },
          "metadata": {}
        },
        {
          "output_type": "display_data",
          "data": {
            "text/plain": [
              "<IPython.core.display.Javascript object>"
            ],
            "application/javascript": [
              "download(\"download_eb0df3b4-4e0b-4fe3-9cfd-d483a1d8b0f7\", \"galaxy_classifier.pkl\", 48673)"
            ]
          },
          "metadata": {}
        },
        {
          "output_type": "stream",
          "name": "stdout",
          "text": [
            " Model downloaded!\n"
          ]
        }
      ]
    }
  ],
  "metadata": {
    "language_info": {
      "name": "python"
    },
    "colab": {
      "provenance": [],
      "include_colab_link": true
    },
    "kernelspec": {
      "name": "python3",
      "display_name": "Python 3"
    }
  },
  "nbformat": 4,
  "nbformat_minor": 5
}